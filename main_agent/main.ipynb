{
 "cells": [
  {
   "cell_type": "code",
   "execution_count": null,
   "id": "2b67f6b0",
   "metadata": {},
   "outputs": [],
   "source": [
    "import os\n",
    "import requests\n",
    "import datetime \n",
    "import wikipedia\n",
    "from dotenv import load_dotenv ,find_dotenv\n",
    "from pydantic import BaseModel , Field\n",
    "import typing\n",
    "\n",
    "from langchain.tools import tool\n",
    "\n",
    "from langchain.prompts import PromptTemplate , MessagesPlaceholder\n",
    "from langchain.tools.render import  format_tool_to_openai_function\n",
    "from langchain.agents.format_scratchpad import format_to_openai_functions\n",
    "from langchain.agents.output_parsers import OpenAIFunctionsAgentOutputParser\n",
    "from langchain.schema.runnable import  RunnablePassthrough\n",
    "from langchain.memory import ConversationBufferMemory\n",
    "from langchain.agents import AgentExecutor\n",
    "import panel as pn \n",
    "import param\n",
    "from langchain_community.chat_models import ChatOpenAI"
   ]
  },
  {
   "cell_type": "code",
   "execution_count": null,
   "id": "4a4ad045",
   "metadata": {},
   "outputs": [],
   "source": [
    "\n"
   ]
  }
 ],
 "metadata": {
  "kernelspec": {
   "display_name": "conversational_agent",
   "language": "python",
   "name": "python3"
  },
  "language_info": {
   "codemirror_mode": {
    "name": "ipython",
    "version": 3
   },
   "file_extension": ".py",
   "mimetype": "text/x-python",
   "name": "python",
   "nbconvert_exporter": "python",
   "pygments_lexer": "ipython3",
   "version": "3.13.5"
  }
 },
 "nbformat": 4,
 "nbformat_minor": 5
}
